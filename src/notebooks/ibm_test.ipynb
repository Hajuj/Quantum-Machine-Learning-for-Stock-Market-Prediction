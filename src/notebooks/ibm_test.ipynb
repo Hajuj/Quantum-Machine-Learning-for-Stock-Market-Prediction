{
 "cells": [
  {
   "cell_type": "code",
   "execution_count": 10,
   "id": "initial_id",
   "metadata": {
    "collapsed": true,
    "ExecuteTime": {
     "end_time": "2024-02-01T20:03:16.991436Z",
     "start_time": "2024-02-01T20:03:16.745699Z"
    }
   },
   "outputs": [],
   "source": [
    "import pennylane as qml"
   ]
  },
  {
   "cell_type": "code",
   "outputs": [],
   "source": [
    "ibmqx_token = \"XXX\"\n",
    "\n",
    "dev = qml.device('qiskit.ibmq', wires=2, backend='ibm_osaka', ibmqx_token=ibmqx_token)"
   ],
   "metadata": {
    "collapsed": false,
    "ExecuteTime": {
     "end_time": "2024-02-01T20:16:50.183141Z",
     "start_time": "2024-02-01T20:16:44.237923Z"
    }
   },
   "id": "2a5652280d7ade26",
   "execution_count": 15
  },
  {
   "cell_type": "code",
   "outputs": [],
   "source": [
    "@qml.qnode(dev)\n",
    "def circuit(x):\n",
    "    qml.RZ(x, wires=0)\n",
    "    qml.CNOT(wires=[0,1])\n",
    "    qml.RY(x, wires=1)\n",
    "    return qml.expval(qml.PauliZ(1))\n",
    "\n",
    "result = circuit(0.543)"
   ],
   "metadata": {
    "collapsed": false,
    "ExecuteTime": {
     "end_time": "2024-02-01T20:29:53.023682Z",
     "start_time": "2024-02-01T20:16:55.139947Z"
    }
   },
   "id": "991749098b59867e",
   "execution_count": 16
  },
  {
   "cell_type": "code",
   "outputs": [
    {
     "data": {
      "text/plain": "array(0.85351562)"
     },
     "execution_count": 17,
     "metadata": {},
     "output_type": "execute_result"
    }
   ],
   "source": [
    "result"
   ],
   "metadata": {
    "collapsed": false,
    "ExecuteTime": {
     "end_time": "2024-02-01T20:55:10.906109Z",
     "start_time": "2024-02-01T20:55:10.901557Z"
    }
   },
   "id": "22df8e7aa702e5f9",
   "execution_count": 17
  },
  {
   "cell_type": "code",
   "outputs": [],
   "source": [],
   "metadata": {
    "collapsed": false
   },
   "id": "d1dfddbf3b8f1d46"
  }
 ],
 "metadata": {
  "kernelspec": {
   "display_name": "Python 3",
   "language": "python",
   "name": "python3"
  },
  "language_info": {
   "codemirror_mode": {
    "name": "ipython",
    "version": 2
   },
   "file_extension": ".py",
   "mimetype": "text/x-python",
   "name": "python",
   "nbconvert_exporter": "python",
   "pygments_lexer": "ipython2",
   "version": "2.7.6"
  }
 },
 "nbformat": 4,
 "nbformat_minor": 5
}
