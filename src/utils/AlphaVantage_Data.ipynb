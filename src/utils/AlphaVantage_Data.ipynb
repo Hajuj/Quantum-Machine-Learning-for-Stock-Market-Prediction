{
 "cells": [
  {
   "cell_type": "code",
   "execution_count": 5,
   "id": "db5960cc",
   "metadata": {
    "ExecuteTime": {
     "end_time": "2024-01-07T18:02:34.097897Z",
     "start_time": "2024-01-07T18:02:34.092652Z"
    }
   },
   "outputs": [],
   "source": [
    "import csv\n",
    "import os\n",
    "\n",
    "import pandas as pd\n",
    "import requests"
   ]
  },
  {
   "cell_type": "code",
   "execution_count": 2,
   "outputs": [],
   "source": [
    "best_stocks = ['NVDA', 'DIS', 'KO', 'MO', 'BABA', 'MA', 'V', 'JPM', 'PG', 'TSM', 'META', 'TSLA', 'GOOGL', 'AMZN', 'MSFT', 'AAPL', 'ABBV', 'PEP', 'CRM', 'PFE', 'NFLX', 'AMD', 'ABT', 'PM', 'BA', 'NKE', 'GS', 'T', 'C', 'MU', 'VIXY']"
   ],
   "metadata": {
    "collapsed": false,
    "ExecuteTime": {
     "end_time": "2024-01-07T15:36:04.746911Z",
     "start_time": "2024-01-07T15:36:04.744175Z"
    }
   },
   "id": "2e96fec31eae5ea3"
  },
  {
   "cell_type": "code",
   "execution_count": 3,
   "outputs": [],
   "source": [
    "# Create a directory named 'stock_data' if it doesn't exist\n",
    "folder_name = \"../datasets/stock_data_10_days\"\n",
    "if not os.path.exists(folder_name):\n",
    "    os.makedirs(folder_name)"
   ],
   "metadata": {
    "collapsed": false,
    "ExecuteTime": {
     "end_time": "2024-01-07T15:36:04.749773Z",
     "start_time": "2024-01-07T15:36:04.746455Z"
    }
   },
   "id": "9508aa458ae99e3"
  },
  {
   "cell_type": "markdown",
   "id": "b2c14313",
   "metadata": {},
   "source": [
    "### Alpha Vantage API:"
   ]
  },
  {
   "cell_type": "markdown",
   "source": [
    "### Daily Data"
   ],
   "metadata": {
    "collapsed": false
   },
   "id": "df2413da4aa407d"
  },
  {
   "cell_type": "code",
   "execution_count": 4,
   "outputs": [
    {
     "name": "stdout",
     "output_type": "stream",
     "text": [
      "Data for NVDA saved to ../datasets/stock_data_10_days/NVDA.csv\n",
      "Data for DIS saved to ../datasets/stock_data_10_days/DIS.csv\n",
      "Data for KO saved to ../datasets/stock_data_10_days/KO.csv\n",
      "Data for MO saved to ../datasets/stock_data_10_days/MO.csv\n",
      "Data for BABA saved to ../datasets/stock_data_10_days/BABA.csv\n",
      "Data for MA saved to ../datasets/stock_data_10_days/MA.csv\n",
      "Data for V saved to ../datasets/stock_data_10_days/V.csv\n",
      "Data for JPM saved to ../datasets/stock_data_10_days/JPM.csv\n",
      "Data for PG saved to ../datasets/stock_data_10_days/PG.csv\n",
      "Data for TSM saved to ../datasets/stock_data_10_days/TSM.csv\n",
      "Data for META saved to ../datasets/stock_data_10_days/META.csv\n",
      "Data for TSLA saved to ../datasets/stock_data_10_days/TSLA.csv\n",
      "Data for GOOGL saved to ../datasets/stock_data_10_days/GOOGL.csv\n",
      "Data for AMZN saved to ../datasets/stock_data_10_days/AMZN.csv\n",
      "Data for MSFT saved to ../datasets/stock_data_10_days/MSFT.csv\n",
      "Data for AAPL saved to ../datasets/stock_data_10_days/AAPL.csv\n",
      "Data for ABBV saved to ../datasets/stock_data_10_days/ABBV.csv\n",
      "Data for PEP saved to ../datasets/stock_data_10_days/PEP.csv\n",
      "Data for CRM saved to ../datasets/stock_data_10_days/CRM.csv\n",
      "Data for PFE saved to ../datasets/stock_data_10_days/PFE.csv\n",
      "Data for NFLX saved to ../datasets/stock_data_10_days/NFLX.csv\n",
      "Data for AMD saved to ../datasets/stock_data_10_days/AMD.csv\n",
      "Data for ABT saved to ../datasets/stock_data_10_days/ABT.csv\n",
      "Data for PM saved to ../datasets/stock_data_10_days/PM.csv\n",
      "Data for BA saved to ../datasets/stock_data_10_days/BA.csv\n",
      "Data for NKE saved to ../datasets/stock_data_10_days/NKE.csv\n",
      "Data for GS saved to ../datasets/stock_data_10_days/GS.csv\n",
      "Data for T saved to ../datasets/stock_data_10_days/T.csv\n",
      "Data for C saved to ../datasets/stock_data_10_days/C.csv\n",
      "Data for MU saved to ../datasets/stock_data_10_days/MU.csv\n",
      "Data for VIXY saved to ../datasets/stock_data_10_days/VIXY.csv\n"
     ]
    }
   ],
   "source": [
    "start_date = \"2023-11-30\"\n",
    "end_date = \"2023-12-13\"\n",
    "    \n",
    "for stock in best_stocks:\n",
    "    url = f'https://www.alphavantage.co/query?function=TIME_SERIES_DAILY&symbol={stock}&outputsize=full&apikey=J2KWBMQJTFXBCSEB'\n",
    "    r = requests.get(url)\n",
    "    data = r.json()\n",
    "\n",
    "    # Extract the time series data\n",
    "    df = pd.DataFrame(data['Time Series (Daily)']).T\n",
    "\n",
    "    # Filter data for the desired date range\n",
    "    df = df[(df.index >= start_date) & (df.index <= end_date)]\n",
    "    \n",
    "    # Sort the dates\n",
    "    df = df.sort_index(axis=0, ascending=True)\n",
    "\n",
    "    # Create or overwrite a CSV file for each stock inside the 'stocks_data' folder\n",
    "    file_path = os.path.join(folder_name, f\"{stock}.csv\")\n",
    "    with open(file_path, \"w\", newline='') as csvfile:\n",
    "        csvwriter = csv.writer(csvfile)\n",
    "\n",
    "        # Write the header\n",
    "        csvwriter.writerow([\"Time\", \"Open\", \"High\", \"Low\", \"Close\", \"Volume\", \"Percentage Change\"])\n",
    "        yesterday = 1\n",
    "\n",
    "        for index, row in df.iterrows():\n",
    "            # Write the filtered data\n",
    "\n",
    "            csvwriter.writerow(\n",
    "                [index, row[\"1. open\"], row[\"2. high\"], row[\"3. low\"], row[\"4. close\"], row[\"5. volume\"], format(float(row[\"4. close\"]) / float(yesterday) - 1, '.4f')])\n",
    "            yesterday = row[\"4. close\"]\n",
    "\n",
    "    print(f\"Data for {stock} saved to {file_path}\")"
   ],
   "metadata": {
    "collapsed": false,
    "ExecuteTime": {
     "end_time": "2024-01-07T15:36:36.023664Z",
     "start_time": "2024-01-07T15:36:04.752197Z"
    }
   },
   "id": "52c15c2ba23ee1b0"
  },
  {
   "cell_type": "code",
   "execution_count": 4,
   "outputs": [],
   "source": [],
   "metadata": {
    "collapsed": false,
    "ExecuteTime": {
     "end_time": "2024-01-07T15:36:36.024097Z",
     "start_time": "2024-01-07T15:36:36.010465Z"
    }
   },
   "id": "9dbb2847447956af"
  }
 ],
 "metadata": {
  "kernelspec": {
   "name": "python3",
   "language": "python",
   "display_name": "Python 3 (ipykernel)"
  },
  "language_info": {
   "codemirror_mode": {
    "name": "ipython",
    "version": 3
   },
   "file_extension": ".py",
   "mimetype": "text/x-python",
   "name": "python",
   "nbconvert_exporter": "python",
   "pygments_lexer": "ipython3",
   "version": "3.10.11"
  }
 },
 "nbformat": 4,
 "nbformat_minor": 5
}
