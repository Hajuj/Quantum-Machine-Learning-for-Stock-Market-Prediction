{
 "cells": [
  {
   "cell_type": "code",
   "execution_count": 21,
   "id": "db5960cc",
   "metadata": {
    "ExecuteTime": {
     "end_time": "2024-01-19T19:17:07.446617Z",
     "start_time": "2024-01-19T19:17:07.395681200Z"
    }
   },
   "outputs": [],
   "source": [
    "import csv\n",
    "import os\n",
    "\n",
    "import pandas as pd\n",
    "import requests"
   ]
  },
  {
   "cell_type": "code",
   "execution_count": 22,
   "outputs": [],
   "source": [
    "best_stocks = ['NVDA', 'DIS', 'KO', 'MO', 'BABA', 'MA', 'V', 'JPM', 'PG', 'TSM', 'META', 'TSLA', 'GOOGL', 'AMZN', 'MSFT', 'AAPL', 'ABBV', 'PEP', 'CRM', 'PFE', 'NFLX', 'AMD', 'ABT', 'PM', 'BA', 'NKE', 'GS', 'T', 'C', 'MU', 'VIXY']"
   ],
   "metadata": {
    "collapsed": false,
    "ExecuteTime": {
     "end_time": "2024-01-19T19:17:07.475929800Z",
     "start_time": "2024-01-19T19:17:07.452139700Z"
    }
   },
   "id": "2e96fec31eae5ea3"
  },
  {
   "cell_type": "code",
   "execution_count": 23,
   "outputs": [],
   "source": [
    "# Create a directory named 'stock_data' if it doesn't exist\n",
    "folder_name = \"../datasets/stock_data\"\n",
    "if not os.path.exists(folder_name):\n",
    "    os.makedirs(folder_name)"
   ],
   "metadata": {
    "collapsed": false,
    "ExecuteTime": {
     "end_time": "2024-01-19T19:17:07.502449800Z",
     "start_time": "2024-01-19T19:17:07.461359400Z"
    }
   },
   "id": "9508aa458ae99e3"
  },
  {
   "cell_type": "markdown",
   "id": "b2c14313",
   "metadata": {},
   "source": [
    "### Alpha Vantage API:"
   ]
  },
  {
   "cell_type": "markdown",
   "source": [
    "### Daily Data"
   ],
   "metadata": {
    "collapsed": false
   },
   "id": "df2413da4aa407d"
  },
  {
   "cell_type": "code",
   "execution_count": 24,
   "outputs": [
    {
     "name": "stdout",
     "output_type": "stream",
     "text": [
      "Data for NVDA saved to ../datasets/stock_data\\NVDA.csv\n",
      "Data for DIS saved to ../datasets/stock_data\\DIS.csv\n",
      "Data for KO saved to ../datasets/stock_data\\KO.csv\n",
      "Data for MO saved to ../datasets/stock_data\\MO.csv\n",
      "Data for BABA saved to ../datasets/stock_data\\BABA.csv\n",
      "Data for MA saved to ../datasets/stock_data\\MA.csv\n",
      "Data for V saved to ../datasets/stock_data\\V.csv\n",
      "Data for JPM saved to ../datasets/stock_data\\JPM.csv\n",
      "Data for PG saved to ../datasets/stock_data\\PG.csv\n",
      "Data for TSM saved to ../datasets/stock_data\\TSM.csv\n",
      "Data for META saved to ../datasets/stock_data\\META.csv\n",
      "Data for TSLA saved to ../datasets/stock_data\\TSLA.csv\n",
      "Data for GOOGL saved to ../datasets/stock_data\\GOOGL.csv\n",
      "Data for AMZN saved to ../datasets/stock_data\\AMZN.csv\n",
      "Data for MSFT saved to ../datasets/stock_data\\MSFT.csv\n",
      "Data for AAPL saved to ../datasets/stock_data\\AAPL.csv\n",
      "Data for ABBV saved to ../datasets/stock_data\\ABBV.csv\n",
      "Data for PEP saved to ../datasets/stock_data\\PEP.csv\n",
      "Data for CRM saved to ../datasets/stock_data\\CRM.csv\n",
      "Data for PFE saved to ../datasets/stock_data\\PFE.csv\n",
      "Data for NFLX saved to ../datasets/stock_data\\NFLX.csv\n",
      "Data for AMD saved to ../datasets/stock_data\\AMD.csv\n",
      "Data for ABT saved to ../datasets/stock_data\\ABT.csv\n",
      "Data for PM saved to ../datasets/stock_data\\PM.csv\n",
      "Data for BA saved to ../datasets/stock_data\\BA.csv\n",
      "Data for NKE saved to ../datasets/stock_data\\NKE.csv\n",
      "Data for GS saved to ../datasets/stock_data\\GS.csv\n",
      "Data for T saved to ../datasets/stock_data\\T.csv\n",
      "Data for C saved to ../datasets/stock_data\\C.csv\n",
      "Data for MU saved to ../datasets/stock_data\\MU.csv\n",
      "Data for VIXY saved to ../datasets/stock_data\\VIXY.csv\n"
     ]
    }
   ],
   "source": [
    "start_date = \"2021-11-24\"\n",
    "end_date = \"2023-11-30\"\n",
    "    \n",
    "for stock in best_stocks:\n",
    "    url = f'https://www.alphavantage.co/query?function=TIME_SERIES_DAILY&symbol={stock}&outputsize=full&apikey=J2KWBMQJTFXBCSEB'\n",
    "    r = requests.get(url)\n",
    "    data = r.json()\n",
    "\n",
    "    # Extract the time series data\n",
    "    df = pd.DataFrame(data['Time Series (Daily)']).T\n",
    "\n",
    "    # Filter data for the desired date range\n",
    "    df = df[(df.index >= start_date) & (df.index <= end_date)]\n",
    "    \n",
    "    # Sort the dates\n",
    "    df = df.sort_index(axis=0, ascending=True)\n",
    "\n",
    "    # Create or overwrite a CSV file for each stock inside the 'stocks_data' folder\n",
    "    file_path = os.path.join(folder_name, f\"{stock}.csv\")\n",
    "    with open(file_path, \"w\", newline='') as csvfile:\n",
    "        csvwriter = csv.writer(csvfile)\n",
    "\n",
    "        # Write the header\n",
    "        csvwriter.writerow([\"Time\", \"Open\", \"High\", \"Low\", \"Close\", \"Volume\", \"Percentage Change\"])\n",
    "        first_value = float(df.iloc[0][\"4. close\"])\n",
    "        yesterday = first_value\n",
    "\n",
    "        for index, row in df.iterrows():\n",
    "            # Write the filtered data\n",
    "\n",
    "            csvwriter.writerow(\n",
    "                [index, row[\"1. open\"], row[\"2. high\"], row[\"3. low\"], row[\"4. close\"], row[\"5. volume\"], format(float(row[\"4. close\"]) / float(yesterday) - 1, '.4f')])\n",
    "            yesterday = row[\"4. close\"]\n",
    "\n",
    "    print(f\"Data for {stock} saved to {file_path}\")"
   ],
   "metadata": {
    "collapsed": false,
    "ExecuteTime": {
     "end_time": "2024-01-19T19:17:56.587473300Z",
     "start_time": "2024-01-19T19:17:07.488968700Z"
    }
   },
   "id": "52c15c2ba23ee1b0"
  },
  {
   "cell_type": "code",
   "execution_count": 24,
   "outputs": [],
   "source": [],
   "metadata": {
    "collapsed": false,
    "ExecuteTime": {
     "end_time": "2024-01-19T19:17:56.588980600Z",
     "start_time": "2024-01-19T19:17:56.579294Z"
    }
   },
   "id": "9dbb2847447956af"
  }
 ],
 "metadata": {
  "kernelspec": {
   "name": "python3",
   "language": "python",
   "display_name": "Python 3 (ipykernel)"
  },
  "language_info": {
   "codemirror_mode": {
    "name": "ipython",
    "version": 3
   },
   "file_extension": ".py",
   "mimetype": "text/x-python",
   "name": "python",
   "nbconvert_exporter": "python",
   "pygments_lexer": "ipython3",
   "version": "3.10.11"
  }
 },
 "nbformat": 4,
 "nbformat_minor": 5
}
